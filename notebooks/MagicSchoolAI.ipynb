{
 "cells": [
  {
   "cell_type": "markdown",
   "id": "ee3bea1b-b577-47ec-830a-b14dd5e84a01",
   "metadata": {},
   "source": [
    "Walkthrough for educators: https://www.youtube.com/watch?v=f_Q0I9zuksw\n",
    "\n",
    "Walkthrough for students: https://www.youtube.com/watch?v=XEDrkZ43qR8"
   ]
  },
  {
   "cell_type": "markdown",
   "id": "4a4d3b69-d2ea-49b7-b487-78c35426bb91",
   "metadata": {},
   "source": [
    "Magic School AI is an advanced platform designed specifically to support educators by providing a suite of over 60 AI-powered tools. These tools help with a variety of tasks including lesson planning, differentiation, assessment creation, writing individualized education programs (IEPs), and professional communication. The platform aims to reduce the workload of teachers by automating repetitive and time-consuming tasks, allowing them to focus more on direct interaction with students【6†source】【8†source】【9†source】.\n",
    "\n",
    "Magic School AI also includes a student component, MagicSchool for Students, which promotes AI literacy and responsible usage among students. This helps in preparing the next generation for a future where AI plays a significant role【6†source】【7†source】.\n",
    "\n",
    "The platform integrates with common educational tools and learning management systems (LMS) like Google Classroom and Microsoft, making it easy to export AI-generated content directly to these platforms. It also offers customization options for educators to tailor the AI tools to their specific needs and classroom contexts【9†source】【10†source】.\n",
    "\n",
    "Magic School AI offers different pricing tiers: a free version with limited features, a Plus version for individual teachers, and an Enterprise version for schools and districts, which includes more comprehensive features and support【10†source】. \n",
    "\n",
    "Overall, Magic School AI is designed to save teachers time, reduce burnout, and enhance productivity by streamlining many of the administrative and planning tasks associated with teaching【7†source】【10†source】."
   ]
  },
  {
   "cell_type": "code",
   "execution_count": null,
   "id": "bbf444b0-cab1-49b4-b9f5-f34e3c71a1bf",
   "metadata": {},
   "outputs": [],
   "source": []
  }
 ],
 "metadata": {
  "kernelspec": {
   "display_name": "Python 3 (ipykernel)",
   "language": "python",
   "name": "python3"
  },
  "language_info": {
   "codemirror_mode": {
    "name": "ipython",
    "version": 3
   },
   "file_extension": ".py",
   "mimetype": "text/x-python",
   "name": "python",
   "nbconvert_exporter": "python",
   "pygments_lexer": "ipython3",
   "version": "3.11.9"
  }
 },
 "nbformat": 4,
 "nbformat_minor": 5
}
