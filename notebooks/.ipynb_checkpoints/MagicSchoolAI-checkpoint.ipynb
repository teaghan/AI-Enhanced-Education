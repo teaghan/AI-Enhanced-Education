{
 "cells": [
  {
   "cell_type": "markdown",
   "id": "ee3bea1b-b577-47ec-830a-b14dd5e84a01",
   "metadata": {},
   "source": [
    "Walkthrough for educators: https://www.youtube.com/watch?v=f_Q0I9zuksw\n",
    "\n",
    "Walkthrough for students: https://www.youtube.com/watch?v=XEDrkZ43qR8"
   ]
  }
 ],
 "metadata": {
  "kernelspec": {
   "display_name": "Python 3 (ipykernel)",
   "language": "python",
   "name": "python3"
  },
  "language_info": {
   "codemirror_mode": {
    "name": "ipython",
    "version": 3
   },
   "file_extension": ".py",
   "mimetype": "text/x-python",
   "name": "python",
   "nbconvert_exporter": "python",
   "pygments_lexer": "ipython3",
   "version": "3.11.9"
  }
 },
 "nbformat": 4,
 "nbformat_minor": 5
}
